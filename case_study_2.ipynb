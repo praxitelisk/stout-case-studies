{
 "cells": [
  {
   "cell_type": "markdown",
   "id": "11ad29c5-d6ba-4d7c-86c5-de794a7ffb01",
   "metadata": {
    "tags": []
   },
   "source": [
    "# Case study 2"
   ]
  },
  {
   "cell_type": "code",
   "execution_count": 196,
   "id": "5fdcfcae-7490-4dbd-8d53-225d1861ea0a",
   "metadata": {},
   "outputs": [],
   "source": [
    "# importing the libraries\n",
    "\n",
    "import numpy as np # linear algebra\n",
    "import pandas as pd # data processing, CSV file I/O\n",
    "import matplotlib.pyplot as plt\n",
    "import seaborn as sns # for plotting\n",
    "\n",
    "%matplotlib inline"
   ]
  },
  {
   "cell_type": "markdown",
   "id": "ddcb4dc3-0531-4493-869e-47c76e7f20c1",
   "metadata": {},
   "source": [
    "## reading the csv"
   ]
  },
  {
   "cell_type": "code",
   "execution_count": 197,
   "id": "88b6eec7-c361-4b49-8036-f837f5ba1b3b",
   "metadata": {},
   "outputs": [],
   "source": [
    "df = pd.read_csv(\"casestudy.csv\")"
   ]
  },
  {
   "cell_type": "markdown",
   "id": "741ef72a-9c55-4856-815a-19ac3f8c8e54",
   "metadata": {},
   "source": [
    "## initial inspection"
   ]
  },
  {
   "cell_type": "code",
   "execution_count": 198,
   "id": "2a462da4-e956-4a1b-a350-c2781de8e878",
   "metadata": {},
   "outputs": [
    {
     "name": "stdout",
     "output_type": "stream",
     "text": [
      "<class 'pandas.core.frame.DataFrame'>\n",
      "RangeIndex: 685927 entries, 0 to 685926\n",
      "Data columns (total 4 columns):\n",
      " #   Column          Non-Null Count   Dtype  \n",
      "---  ------          --------------   -----  \n",
      " 0   Unnamed: 0      685927 non-null  int64  \n",
      " 1   customer_email  685927 non-null  object \n",
      " 2   net_revenue     685927 non-null  float64\n",
      " 3   year            685927 non-null  int64  \n",
      "dtypes: float64(1), int64(2), object(1)\n",
      "memory usage: 20.9+ MB\n"
     ]
    }
   ],
   "source": [
    "df.info()"
   ]
  },
  {
   "cell_type": "markdown",
   "id": "1ef10502-ea01-4f39-b3cd-a407dba06227",
   "metadata": {},
   "source": [
    "## first rows"
   ]
  },
  {
   "cell_type": "code",
   "execution_count": 199,
   "id": "89acc3df-467d-49cf-b62c-0b84c60ee277",
   "metadata": {},
   "outputs": [
    {
     "data": {
      "text/html": [
       "<div>\n",
       "<style scoped>\n",
       "    .dataframe tbody tr th:only-of-type {\n",
       "        vertical-align: middle;\n",
       "    }\n",
       "\n",
       "    .dataframe tbody tr th {\n",
       "        vertical-align: top;\n",
       "    }\n",
       "\n",
       "    .dataframe thead th {\n",
       "        text-align: right;\n",
       "    }\n",
       "</style>\n",
       "<table border=\"1\" class=\"dataframe\">\n",
       "  <thead>\n",
       "    <tr style=\"text-align: right;\">\n",
       "      <th></th>\n",
       "      <th>Unnamed: 0</th>\n",
       "      <th>customer_email</th>\n",
       "      <th>net_revenue</th>\n",
       "      <th>year</th>\n",
       "    </tr>\n",
       "  </thead>\n",
       "  <tbody>\n",
       "    <tr>\n",
       "      <th>0</th>\n",
       "      <td>0</td>\n",
       "      <td>nhknapwsbx@gmail.com</td>\n",
       "      <td>249.92</td>\n",
       "      <td>2015</td>\n",
       "    </tr>\n",
       "    <tr>\n",
       "      <th>1</th>\n",
       "      <td>1</td>\n",
       "      <td>joiuzbvcpn@gmail.com</td>\n",
       "      <td>87.61</td>\n",
       "      <td>2015</td>\n",
       "    </tr>\n",
       "    <tr>\n",
       "      <th>2</th>\n",
       "      <td>2</td>\n",
       "      <td>ukkjctepxt@gmail.com</td>\n",
       "      <td>168.38</td>\n",
       "      <td>2015</td>\n",
       "    </tr>\n",
       "    <tr>\n",
       "      <th>3</th>\n",
       "      <td>3</td>\n",
       "      <td>gykatilzrt@gmail.com</td>\n",
       "      <td>62.40</td>\n",
       "      <td>2015</td>\n",
       "    </tr>\n",
       "    <tr>\n",
       "      <th>4</th>\n",
       "      <td>4</td>\n",
       "      <td>mmsgsrtxah@gmail.com</td>\n",
       "      <td>43.08</td>\n",
       "      <td>2015</td>\n",
       "    </tr>\n",
       "    <tr>\n",
       "      <th>5</th>\n",
       "      <td>5</td>\n",
       "      <td>mobvusnzfr@gmail.com</td>\n",
       "      <td>39.44</td>\n",
       "      <td>2015</td>\n",
       "    </tr>\n",
       "    <tr>\n",
       "      <th>6</th>\n",
       "      <td>6</td>\n",
       "      <td>kxwkqvacsv@gmail.com</td>\n",
       "      <td>171.46</td>\n",
       "      <td>2015</td>\n",
       "    </tr>\n",
       "    <tr>\n",
       "      <th>7</th>\n",
       "      <td>7</td>\n",
       "      <td>iqmnugdcjs@gmail.com</td>\n",
       "      <td>111.99</td>\n",
       "      <td>2015</td>\n",
       "    </tr>\n",
       "    <tr>\n",
       "      <th>8</th>\n",
       "      <td>8</td>\n",
       "      <td>baiikostmd@gmail.com</td>\n",
       "      <td>170.70</td>\n",
       "      <td>2015</td>\n",
       "    </tr>\n",
       "    <tr>\n",
       "      <th>9</th>\n",
       "      <td>9</td>\n",
       "      <td>lfeafnigbu@gmail.com</td>\n",
       "      <td>54.99</td>\n",
       "      <td>2015</td>\n",
       "    </tr>\n",
       "  </tbody>\n",
       "</table>\n",
       "</div>"
      ],
      "text/plain": [
       "   Unnamed: 0         customer_email  net_revenue  year\n",
       "0           0   nhknapwsbx@gmail.com       249.92  2015\n",
       "1           1   joiuzbvcpn@gmail.com        87.61  2015\n",
       "2           2   ukkjctepxt@gmail.com       168.38  2015\n",
       "3           3   gykatilzrt@gmail.com        62.40  2015\n",
       "4           4   mmsgsrtxah@gmail.com        43.08  2015\n",
       "5           5   mobvusnzfr@gmail.com        39.44  2015\n",
       "6           6   kxwkqvacsv@gmail.com       171.46  2015\n",
       "7           7   iqmnugdcjs@gmail.com       111.99  2015\n",
       "8           8   baiikostmd@gmail.com       170.70  2015\n",
       "9           9   lfeafnigbu@gmail.com        54.99  2015"
      ]
     },
     "execution_count": 199,
     "metadata": {},
     "output_type": "execute_result"
    }
   ],
   "source": [
    "df.head(10)"
   ]
  },
  {
   "cell_type": "markdown",
   "id": "99cf58f3-bc7e-4d47-975f-39be603571e4",
   "metadata": {},
   "source": [
    "## Renaming columns"
   ]
  },
  {
   "cell_type": "code",
   "execution_count": 200,
   "id": "f2bd0f84-87a3-4e0e-b45a-65d1999daac9",
   "metadata": {},
   "outputs": [
    {
     "data": {
      "text/plain": [
       "0          nhknapwsbx@gmail.com\n",
       "1          joiuzbvcpn@gmail.com\n",
       "2          ukkjctepxt@gmail.com\n",
       "3          gykatilzrt@gmail.com\n",
       "4          mmsgsrtxah@gmail.com\n",
       "                  ...          \n",
       "685922     qzqttwiftu@gmail.com\n",
       "685923     pjodiifjop@gmail.com\n",
       "685924     appaplmgko@gmail.com\n",
       "685925     wvkpmwsgck@gmail.com\n",
       "685926     aregboumbw@gmail.com\n",
       "Name: customer_email, Length: 685927, dtype: object"
      ]
     },
     "execution_count": 200,
     "metadata": {},
     "output_type": "execute_result"
    }
   ],
   "source": [
    "df.rename(columns={\"Unnamed: 0\": \"id\"}, inplace=True)\n",
    "df.customer_email.astype('str')"
   ]
  },
  {
   "cell_type": "markdown",
   "id": "b727e8e8-dd28-4673-af07-908c4f538df4",
   "metadata": {},
   "source": [
    "## Inspecting for Missing values"
   ]
  },
  {
   "cell_type": "code",
   "execution_count": 201,
   "id": "875f874b-c437-4864-86aa-83ff7abaad02",
   "metadata": {},
   "outputs": [
    {
     "data": {
      "text/plain": [
       "id                0\n",
       "customer_email    0\n",
       "net_revenue       0\n",
       "year              0\n",
       "dtype: int64"
      ]
     },
     "execution_count": 201,
     "metadata": {},
     "output_type": "execute_result"
    }
   ],
   "source": [
    "df.isna().sum()"
   ]
  },
  {
   "cell_type": "markdown",
   "id": "d2c69c3d-8186-4786-876a-0beaf1075ccb",
   "metadata": {},
   "source": [
    "## Number of records per year"
   ]
  },
  {
   "cell_type": "code",
   "execution_count": 202,
   "id": "15b26acf-2bd1-4325-9ddd-5bc18c1f858d",
   "metadata": {},
   "outputs": [
    {
     "data": {
      "text/plain": [
       "2017    249987\n",
       "2015    231294\n",
       "2016    204646\n",
       "Name: year, dtype: int64"
      ]
     },
     "execution_count": 202,
     "metadata": {},
     "output_type": "execute_result"
    }
   ],
   "source": [
    "df.year.value_counts()"
   ]
  },
  {
   "cell_type": "markdown",
   "id": "289a9e23-857c-48c9-b1d3-7a43d15afa3b",
   "metadata": {},
   "source": [
    "## Total revenue for the current year"
   ]
  },
  {
   "cell_type": "code",
   "execution_count": 273,
   "id": "b688aaa7-b7e7-4609-8e02-a5793da754dc",
   "metadata": {},
   "outputs": [
    {
     "data": {
      "text/html": [
       "<div>\n",
       "<style scoped>\n",
       "    .dataframe tbody tr th:only-of-type {\n",
       "        vertical-align: middle;\n",
       "    }\n",
       "\n",
       "    .dataframe tbody tr th {\n",
       "        vertical-align: top;\n",
       "    }\n",
       "\n",
       "    .dataframe thead th {\n",
       "        text-align: right;\n",
       "    }\n",
       "</style>\n",
       "<table border=\"1\" class=\"dataframe\">\n",
       "  <thead>\n",
       "    <tr style=\"text-align: right;\">\n",
       "      <th></th>\n",
       "      <th>net_revenue</th>\n",
       "    </tr>\n",
       "    <tr>\n",
       "      <th>year</th>\n",
       "      <th></th>\n",
       "    </tr>\n",
       "  </thead>\n",
       "  <tbody>\n",
       "    <tr>\n",
       "      <th>2015</th>\n",
       "      <td>29036749.19</td>\n",
       "    </tr>\n",
       "    <tr>\n",
       "      <th>2016</th>\n",
       "      <td>25730943.59</td>\n",
       "    </tr>\n",
       "    <tr>\n",
       "      <th>2017</th>\n",
       "      <td>31417495.03</td>\n",
       "    </tr>\n",
       "  </tbody>\n",
       "</table>\n",
       "</div>"
      ],
      "text/plain": [
       "      net_revenue\n",
       "year             \n",
       "2015  29036749.19\n",
       "2016  25730943.59\n",
       "2017  31417495.03"
      ]
     },
     "execution_count": 273,
     "metadata": {},
     "output_type": "execute_result"
    }
   ],
   "source": [
    "df.groupby(['year']).sum(['net_revenue']).drop('id', axis=1)"
   ]
  },
  {
   "cell_type": "markdown",
   "id": "8ee8b967-09dd-475c-97a5-111ec883557d",
   "metadata": {},
   "source": [
    "The Revenue of 2017 is $31417495\n",
    "\n",
    "The Revenue of 2016 is $25730943\n",
    "\n",
    "The Revenue of 2015 is $29036749"
   ]
  },
  {
   "cell_type": "markdown",
   "id": "bb14ee9a-6c03-4b09-a64c-10a8749db0e6",
   "metadata": {},
   "source": [
    "## New Customer Revenue e.g. new customers not present in previous year only"
   ]
  },
  {
   "cell_type": "code",
   "execution_count": 236,
   "id": "006df4d9-9592-4d38-a8b7-9e8c5a3ec7aa",
   "metadata": {},
   "outputs": [],
   "source": [
    "year2017 = df.loc[df['year'] == 2017]\n",
    "year2016 = df.loc[df['year'] == 2016]\n",
    "year2015 = df.loc[df['year'] == 2015]\n",
    "\n",
    "def anti_join(x, y, on):\n",
    "    \"\"\"Return rows in x which are not present in y\"\"\"\n",
    "    ans = pd.merge(left=x, right=y, how='left', indicator=True, on=on)\n",
    "    ans = ans.loc[ans._merge == 'left_only', :].drop(columns='_merge')\n",
    "    return ans\n",
    "\n",
    "anti2017 = anti_join(year2017, year2016, on='customer_email')\n",
    "anti2016 = anti_join(year2016, year2015, on='customer_email')"
   ]
  },
  {
   "cell_type": "code",
   "execution_count": 270,
   "id": "b7124602-21ab-4dd4-80ab-89532b7bbaa5",
   "metadata": {},
   "outputs": [
    {
     "name": "stdout",
     "output_type": "stream",
     "text": [
      "New customer revenue for 2017 is 28776235.039999995\n"
     ]
    }
   ],
   "source": [
    "print(\"New customer revenue for 2017 is\", anti2017.net_revenue_x.sum())"
   ]
  },
  {
   "cell_type": "code",
   "execution_count": 271,
   "id": "c764687d-b7d3-40bf-bc2d-1432ba92695a",
   "metadata": {},
   "outputs": [
    {
     "name": "stdout",
     "output_type": "stream",
     "text": [
      "New customer revenue for 2016 is 18245491.01\n"
     ]
    }
   ],
   "source": [
    "print(\"New customer revenue for 2016 is\", anti2016.net_revenue_x.sum())"
   ]
  },
  {
   "cell_type": "markdown",
   "id": "1719b847-3ebf-4747-a830-08bb73a5e8b5",
   "metadata": {},
   "source": [
    "The Revenue of 2015 is $29036749"
   ]
  },
  {
   "cell_type": "markdown",
   "id": "64f7eeb4-e24f-4c17-8d86-acd3232520c0",
   "metadata": {},
   "source": [
    "## Existing Customer Growth. To calculate this, use the Revenue of existing customers for current year –(minus) Revenue of existing customers from the previous year"
   ]
  },
  {
   "cell_type": "code",
   "execution_count": 260,
   "id": "64da12c9-fb1d-4a46-b159-f4191130674a",
   "metadata": {},
   "outputs": [
    {
     "data": {
      "text/html": [
       "<div>\n",
       "<style scoped>\n",
       "    .dataframe tbody tr th:only-of-type {\n",
       "        vertical-align: middle;\n",
       "    }\n",
       "\n",
       "    .dataframe tbody tr th {\n",
       "        vertical-align: top;\n",
       "    }\n",
       "\n",
       "    .dataframe thead th {\n",
       "        text-align: right;\n",
       "    }\n",
       "</style>\n",
       "<table border=\"1\" class=\"dataframe\">\n",
       "  <thead>\n",
       "    <tr style=\"text-align: right;\">\n",
       "      <th></th>\n",
       "      <th>id</th>\n",
       "      <th>net_revenue</th>\n",
       "    </tr>\n",
       "    <tr>\n",
       "      <th>year</th>\n",
       "      <th></th>\n",
       "      <th></th>\n",
       "    </tr>\n",
       "  </thead>\n",
       "  <tbody>\n",
       "    <tr>\n",
       "      <th>2015</th>\n",
       "      <td>26748341571</td>\n",
       "      <td>29036749.19</td>\n",
       "    </tr>\n",
       "    <tr>\n",
       "      <th>2016</th>\n",
       "      <td>68273282259</td>\n",
       "      <td>25730943.59</td>\n",
       "    </tr>\n",
       "    <tr>\n",
       "      <th>2017</th>\n",
       "      <td>140225957871</td>\n",
       "      <td>31417495.03</td>\n",
       "    </tr>\n",
       "  </tbody>\n",
       "</table>\n",
       "</div>"
      ],
      "text/plain": [
       "                id  net_revenue\n",
       "year                           \n",
       "2015   26748341571  29036749.19\n",
       "2016   68273282259  25730943.59\n",
       "2017  140225957871  31417495.03"
      ]
     },
     "execution_count": 260,
     "metadata": {},
     "output_type": "execute_result"
    }
   ],
   "source": [
    "gb = df.groupby(['year']).sum(['net_revenue'])"
   ]
  },
  {
   "cell_type": "code",
   "execution_count": 269,
   "id": "c41b4124-07ca-4b9a-b06e-a7e13781bd48",
   "metadata": {},
   "outputs": [
    {
     "name": "stdout",
     "output_type": "stream",
     "text": [
      "Growth of customers from 2016 to 2017 5686551.440000001\n"
     ]
    }
   ],
   "source": [
    "print(\"Growth of customers from 2016 to 2017\", gb[\"net_revenue\"].iloc[2] - gb[\"net_revenue\"].iloc[1])"
   ]
  },
  {
   "cell_type": "code",
   "execution_count": 268,
   "id": "d41b29ee-de96-4b43-ba66-94c68c8bde2f",
   "metadata": {},
   "outputs": [
    {
     "name": "stdout",
     "output_type": "stream",
     "text": [
      "Growth of customers from 2015 to 2015 -3305805.6000000015\n"
     ]
    }
   ],
   "source": [
    "print(\"Growth of customers from 2015 to 2015\", gb[\"net_revenue\"].iloc[1] - gb[\"net_revenue\"].iloc[0])"
   ]
  },
  {
   "cell_type": "markdown",
   "id": "116fb84e-be63-411f-a27d-b08af88b69b6",
   "metadata": {},
   "source": [
    "## Plots"
   ]
  },
  {
   "cell_type": "code",
   "execution_count": 276,
   "id": "684bda79-b804-49c9-8245-a8ba34c7c16f",
   "metadata": {},
   "outputs": [
    {
     "data": {
      "text/plain": [
       "<AxesSubplot:xlabel='year'>"
      ]
     },
     "execution_count": 276,
     "metadata": {},
     "output_type": "execute_result"
    },
    {
     "data": {
      "image/png": "[encoded data removed]",
      "text/plain": [
       "<Figure size 640x480 with 1 Axes>"
      ]
     },
     "metadata": {},
     "output_type": "display_data"
    }
   ],
   "source": [
    "df.groupby(['year']).sum(['net_revenue']).drop('id', axis=1).plot(kind='bar')"
   ]
  },
  {
   "cell_type": "markdown",
   "id": "88245013-d2ec-4bc0-a3b5-dec29f5a1f96",
   "metadata": {},
   "source": [
    "It seems that there the number of customers' orders in 2016 was reduced compared to the rest of the other years."
   ]
  },
  {
   "cell_type": "code",
   "execution_count": null,
   "id": "c4d59172-3e09-411c-b87b-4113ed1344ee",
   "metadata": {},
   "outputs": [],
   "source": []
  }
 ],
 "metadata": {
  "kernelspec": {
   "display_name": "Python 3 (ipykernel)",
   "language": "python",
   "name": "python3"
  },
  "language_info": {
   "codemirror_mode": {
    "name": "ipython",
    "version": 3
   },
   "file_extension": ".py",
   "mimetype": "text/x-python",
   "name": "python",
   "nbconvert_exporter": "python",
   "pygments_lexer": "ipython3",
   "version": "3.9.13"
  }
 },
 "nbformat": 4,
 "nbformat_minor": 5
}
